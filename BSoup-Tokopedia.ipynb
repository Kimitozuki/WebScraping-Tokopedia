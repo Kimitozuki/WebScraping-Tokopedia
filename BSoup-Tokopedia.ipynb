{
 "cells": [
  {
   "cell_type": "markdown",
   "metadata": {},
   "source": [
    "### Import Library"
   ]
  },
  {
   "cell_type": "markdown",
   "metadata": {},
   "source": [
    "* Import BeautifulSoup4, Pandas, Time"
   ]
  },
  {
   "cell_type": "code",
   "execution_count": 1,
   "metadata": {},
   "outputs": [],
   "source": [
    "from bs4 import BeautifulSoup\n",
    "import pandas as pd\n",
    "import time"
   ]
  },
  {
   "cell_type": "markdown",
   "metadata": {},
   "source": [
    "* Import Selenium"
   ]
  },
  {
   "cell_type": "code",
   "execution_count": 2,
   "metadata": {},
   "outputs": [],
   "source": [
    "from selenium import webdriver\n",
    "from selenium.webdriver.support.ui import WebDriverWait\n",
    "from selenium.webdriver.support import expected_conditions as EC\n",
    "from selenium.webdriver.common.by import By"
   ]
  },
  {
   "cell_type": "markdown",
   "metadata": {},
   "source": [
    "### Inisiasi Web Driver"
   ]
  },
  {
   "cell_type": "code",
   "execution_count": 3,
   "metadata": {},
   "outputs": [
    {
     "name": "stderr",
     "output_type": "stream",
     "text": [
      "C:\\Users\\WILDAN~1\\AppData\\Local\\Temp/ipykernel_30224/3478796380.py:1: DeprecationWarning: executable_path has been deprecated, please pass in a Service object\n",
      "  driver = webdriver.Edge(executable_path = 'D:\\Dev\\edgedriver_win64\\msedgedriver.exe')\n"
     ]
    }
   ],
   "source": [
    "driver = webdriver.Edge(executable_path = 'D:\\Dev\\edgedriver_win64\\msedgedriver.exe')\n",
    "url = 'https://www.tokopedia.com/search?navsource=home%2Chome&page={}&pmin=100000&q=keycaps%20pbt&srp_component_id=02.01.00.00&srp_page_id=&srp_page_title=&st=product'"
   ]
  },
  {
   "cell_type": "markdown",
   "metadata": {},
   "source": [
    "### Scrapping"
   ]
  },
  {
   "cell_type": "code",
   "execution_count": 80,
   "metadata": {},
   "outputs": [],
   "source": [
    "etalase = []\n",
    "for page in range(1,21):\n",
    "    driver.get(url.format(str(page)))\n",
    "    for i in range(20):\n",
    "        driver.execute_script(\"window.scrollBy(0, 250);\")\n",
    "        WebDriverWait(driver, 5).until(EC.presence_of_element_located((By.CSS_SELECTOR, \"#zeus-root\")))\n",
    "        time.sleep(2)\n",
    "    time.sleep(3)\n",
    "    \n",
    "    soup = BeautifulSoup(driver.page_source,'html.parser')\n",
    "    etalase_element = soup.select('div.css-jza1fo div.css-12sieg3')\n",
    "    for element in etalase_element:\n",
    "        card = {}\n",
    "        card['nama'] = element.select_one('div.prd_link-product-name').text\n",
    "        card['harga'] = element.select_one('div.prd_link-product-price').text\n",
    "        card['penjual'] = element.select_one('span.prd_link-shop-name').text\n",
    "        card['kota'] = element.select_one('span.prd_link-shop-loc').text\n",
    "        rating_elm = element.select_one('span.prd_rating-average-text')\n",
    "        card['rating'] = rating_elm.text if rating_elm != None else None\n",
    "        etalase.append(card)"
   ]
  },
  {
   "cell_type": "markdown",
   "metadata": {},
   "source": [
    "### Konversi DataFrame ke CSV"
   ]
  },
  {
   "cell_type": "code",
   "execution_count": 82,
   "metadata": {},
   "outputs": [],
   "source": [
    "pd.DataFrame(etalase).to_csv('hasil-bsoup.csv')"
   ]
  }
 ],
 "metadata": {
  "kernelspec": {
   "display_name": "Python 3.9.7 64-bit",
   "language": "python",
   "name": "python3"
  },
  "language_info": {
   "codemirror_mode": {
    "name": "ipython",
    "version": 3
   },
   "file_extension": ".py",
   "mimetype": "text/x-python",
   "name": "python",
   "nbconvert_exporter": "python",
   "pygments_lexer": "ipython3",
   "version": "3.9.7"
  },
  "orig_nbformat": 4,
  "vscode": {
   "interpreter": {
    "hash": "491627a4fc731919225a74fe1d545c8f56a0e4475e4af57e9541110a388ab038"
   }
  }
 },
 "nbformat": 4,
 "nbformat_minor": 2
}
